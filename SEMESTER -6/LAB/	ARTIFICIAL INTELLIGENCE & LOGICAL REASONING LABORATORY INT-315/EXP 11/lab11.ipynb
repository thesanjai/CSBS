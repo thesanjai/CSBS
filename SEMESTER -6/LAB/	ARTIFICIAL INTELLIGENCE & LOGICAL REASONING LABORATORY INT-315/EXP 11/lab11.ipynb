{
 "cells": [
  {
   "cell_type": "code",
   "execution_count": 1,
   "metadata": {},
   "outputs": [
    {
     "name": "stdout",
     "output_type": "stream",
     "text": [
      "The optimal value is : 3\n"
     ]
    }
   ],
   "source": [
    "MAX, MIN = 1000, -1000\n",
    "\n",
    "def minimax(depth, nodeIndex, maximizingPlayer, values, alpha, beta): \n",
    "\tif depth == 3: \n",
    "\t\treturn values[nodeIndex] \n",
    "\n",
    "\tif maximizingPlayer: \t\n",
    "\t\tbest = MIN\n",
    "\t\tfor i in range(0, 2): \n",
    "\t\t\tval = minimax(depth + 1, nodeIndex * 2 + i, False, values, alpha, beta) \n",
    "\t\t\tbest = max(best, val) \n",
    "\t\t\talpha = max(alpha, best) \n",
    "\t\t\tif beta <= alpha: \n",
    "\t\t\t\tbreak\n",
    "\t\treturn best \n",
    "\telse:\n",
    "\t\tbest = MAX\n",
    "\t\tfor i in range(0, 2): \n",
    "\t\t\tval = minimax(depth + 1, nodeIndex * 2 + i, True, values, alpha, beta) \n",
    "\t\t\tbest = min(best, val) \n",
    "\t\t\tbeta = min(beta, best) \n",
    "\t\t\tif beta <= alpha: \n",
    "\t\t\t\tbreak\n",
    "\t\treturn best \n",
    "\n",
    "if __name__ == \"__main__\": \n",
    "\n",
    "\t# values = [3, 5, 6, 9, 1, 2, 0, -1] \n",
    "\tvalues = [2,3,5,9,0,1,7,5]\n",
    "\tprint(\"The optimal value is :\", minimax(0, 0, True, values, MIN, MAX)) \n",
    "\t"
   ]
  },
  {
   "cell_type": "code",
   "execution_count": 1,
   "metadata": {},
   "outputs": [
    {
     "name": "stdout",
     "output_type": "stream",
     "text": [
      "Defaulting to user installation because normal site-packages is not writeable\n",
      "Collecting pywhatkit\n",
      "  Using cached pywhatkit-5.4-py3-none-any.whl.metadata (5.5 kB)\n",
      "Requirement already satisfied: Pillow in /usr/lib64/python3.13/site-packages (from pywhatkit) (11.0.0)\n",
      "Collecting pyautogui (from pywhatkit)\n",
      "  Using cached pyautogui-0.9.54-py3-none-any.whl\n",
      "Requirement already satisfied: requests in /usr/lib/python3.13/site-packages (from pywhatkit) (2.32.3)\n",
      "Collecting wikipedia (from pywhatkit)\n",
      "  Using cached wikipedia-1.4.0-py3-none-any.whl\n",
      "Collecting Flask (from pywhatkit)\n",
      "  Using cached flask-3.1.0-py3-none-any.whl.metadata (2.7 kB)\n",
      "Collecting Werkzeug>=3.1 (from Flask->pywhatkit)\n",
      "  Using cached werkzeug-3.1.3-py3-none-any.whl.metadata (3.7 kB)\n",
      "Collecting Jinja2>=3.1.2 (from Flask->pywhatkit)\n",
      "  Using cached jinja2-3.1.6-py3-none-any.whl.metadata (2.9 kB)\n",
      "Collecting itsdangerous>=2.2 (from Flask->pywhatkit)\n",
      "  Using cached itsdangerous-2.2.0-py3-none-any.whl.metadata (1.9 kB)\n",
      "Requirement already satisfied: click>=8.1.3 in /usr/lib/python3.13/site-packages (from Flask->pywhatkit) (8.1.7)\n",
      "Collecting blinker>=1.9 (from Flask->pywhatkit)\n",
      "  Using cached blinker-1.9.0-py3-none-any.whl.metadata (1.6 kB)\n",
      "Collecting python3-Xlib (from pyautogui->pywhatkit)\n",
      "  Using cached python3_xlib-0.15-py3-none-any.whl\n",
      "Collecting pymsgbox (from pyautogui->pywhatkit)\n",
      "  Using cached pymsgbox-1.0.9-py3-none-any.whl\n",
      "Collecting pytweening>=1.0.4 (from pyautogui->pywhatkit)\n",
      "  Using cached pytweening-1.2.0-py3-none-any.whl\n",
      "Collecting pyscreeze>=0.1.21 (from pyautogui->pywhatkit)\n",
      "  Using cached pyscreeze-1.0.1-py3-none-any.whl\n",
      "Collecting pygetwindow>=0.0.5 (from pyautogui->pywhatkit)\n",
      "  Using cached pygetwindow-0.0.9-py3-none-any.whl\n",
      "Collecting mouseinfo (from pyautogui->pywhatkit)\n",
      "  Using cached mouseinfo-0.1.3-py3-none-any.whl\n",
      "Requirement already satisfied: charset-normalizer<4,>=2 in /usr/lib/python3.13/site-packages (from requests->pywhatkit) (3.3.2)\n",
      "Requirement already satisfied: idna<4,>=2.5 in /usr/lib/python3.13/site-packages (from requests->pywhatkit) (3.7)\n",
      "Requirement already satisfied: urllib3<3,>=1.21.1 in /usr/lib/python3.13/site-packages (from requests->pywhatkit) (1.26.20)\n",
      "Requirement already satisfied: beautifulsoup4 in /usr/lib/python3.13/site-packages (from wikipedia->pywhatkit) (4.12.3)\n",
      "Requirement already satisfied: MarkupSafe>=2.0 in /usr/lib64/python3.13/site-packages (from Jinja2>=3.1.2->Flask->pywhatkit) (2.1.5)\n",
      "Collecting pyrect (from pygetwindow>=0.0.5->pyautogui->pywhatkit)\n",
      "  Using cached pyrect-0.2.0-py2.py3-none-any.whl\n",
      "Requirement already satisfied: soupsieve>1.2 in /usr/lib/python3.13/site-packages (from beautifulsoup4->wikipedia->pywhatkit) (2.6)\n",
      "Collecting pyperclip (from mouseinfo->pyautogui->pywhatkit)\n",
      "  Using cached pyperclip-1.9.0-py3-none-any.whl\n",
      "Using cached pywhatkit-5.4-py3-none-any.whl (15 kB)\n",
      "Using cached flask-3.1.0-py3-none-any.whl (102 kB)\n",
      "Using cached blinker-1.9.0-py3-none-any.whl (8.5 kB)\n",
      "Using cached itsdangerous-2.2.0-py3-none-any.whl (16 kB)\n",
      "Using cached jinja2-3.1.6-py3-none-any.whl (134 kB)\n",
      "Using cached werkzeug-3.1.3-py3-none-any.whl (224 kB)\n",
      "Installing collected packages: pytweening, python3-Xlib, pyscreeze, pyrect, pyperclip, pymsgbox, Werkzeug, pygetwindow, mouseinfo, Jinja2, itsdangerous, blinker, wikipedia, pyautogui, Flask, pywhatkit\n",
      "Successfully installed Flask-3.1.0 Jinja2-3.1.6 Werkzeug-3.1.3 blinker-1.9.0 itsdangerous-2.2.0 mouseinfo-0.1.3 pyautogui-0.9.54 pygetwindow-0.0.9 pymsgbox-1.0.9 pyperclip-1.9.0 pyrect-0.2.0 pyscreeze-1.0.1 python3-Xlib-0.15 pytweening-1.2.0 pywhatkit-5.4 wikipedia-1.4.0\n",
      "Note: you may need to restart the kernel to use updated packages.\n"
     ]
    }
   ],
   "source": [
    "pip install pywhatkit"
   ]
  },
  {
   "cell_type": "code",
   "execution_count": 4,
   "metadata": {},
   "outputs": [
    {
     "name": "stdout",
     "output_type": "stream",
     "text": [
      "Defaulting to user installation because normal site-packages is not writeable\n",
      "Requirement already satisfied: pywhatkit in /home/knight/.local/lib/python3.13/site-packages (5.4)\n",
      "Requirement already satisfied: Pillow in /usr/lib64/python3.13/site-packages (from pywhatkit) (11.0.0)\n",
      "Requirement already satisfied: pyautogui in /home/knight/.local/lib/python3.13/site-packages (from pywhatkit) (0.9.54)\n",
      "Requirement already satisfied: requests in /usr/lib/python3.13/site-packages (from pywhatkit) (2.32.3)\n",
      "Requirement already satisfied: wikipedia in /home/knight/.local/lib/python3.13/site-packages (from pywhatkit) (1.4.0)\n",
      "Requirement already satisfied: Flask in /home/knight/.local/lib/python3.13/site-packages (from pywhatkit) (3.1.0)\n",
      "Requirement already satisfied: Werkzeug>=3.1 in /home/knight/.local/lib/python3.13/site-packages (from Flask->pywhatkit) (3.1.3)\n",
      "Requirement already satisfied: Jinja2>=3.1.2 in /home/knight/.local/lib/python3.13/site-packages (from Flask->pywhatkit) (3.1.6)\n",
      "Requirement already satisfied: itsdangerous>=2.2 in /home/knight/.local/lib/python3.13/site-packages (from Flask->pywhatkit) (2.2.0)\n",
      "Requirement already satisfied: click>=8.1.3 in /usr/lib/python3.13/site-packages (from Flask->pywhatkit) (8.1.7)\n",
      "Requirement already satisfied: blinker>=1.9 in /home/knight/.local/lib/python3.13/site-packages (from Flask->pywhatkit) (1.9.0)\n",
      "Requirement already satisfied: python3-Xlib in /home/knight/.local/lib/python3.13/site-packages (from pyautogui->pywhatkit) (0.15)\n",
      "Requirement already satisfied: pymsgbox in /home/knight/.local/lib/python3.13/site-packages (from pyautogui->pywhatkit) (1.0.9)\n",
      "Requirement already satisfied: pytweening>=1.0.4 in /home/knight/.local/lib/python3.13/site-packages (from pyautogui->pywhatkit) (1.2.0)\n",
      "Requirement already satisfied: pyscreeze>=0.1.21 in /home/knight/.local/lib/python3.13/site-packages (from pyautogui->pywhatkit) (1.0.1)\n",
      "Requirement already satisfied: pygetwindow>=0.0.5 in /home/knight/.local/lib/python3.13/site-packages (from pyautogui->pywhatkit) (0.0.9)\n",
      "Requirement already satisfied: mouseinfo in /home/knight/.local/lib/python3.13/site-packages (from pyautogui->pywhatkit) (0.1.3)\n",
      "Requirement already satisfied: charset-normalizer<4,>=2 in /usr/lib/python3.13/site-packages (from requests->pywhatkit) (3.3.2)\n",
      "Requirement already satisfied: idna<4,>=2.5 in /usr/lib/python3.13/site-packages (from requests->pywhatkit) (3.7)\n",
      "Requirement already satisfied: urllib3<3,>=1.21.1 in /usr/lib/python3.13/site-packages (from requests->pywhatkit) (1.26.20)\n",
      "Requirement already satisfied: beautifulsoup4 in /usr/lib/python3.13/site-packages (from wikipedia->pywhatkit) (4.12.3)\n",
      "Requirement already satisfied: MarkupSafe>=2.0 in /usr/lib64/python3.13/site-packages (from Jinja2>=3.1.2->Flask->pywhatkit) (2.1.5)\n",
      "Requirement already satisfied: pyrect in /home/knight/.local/lib/python3.13/site-packages (from pygetwindow>=0.0.5->pyautogui->pywhatkit) (0.2.0)\n",
      "Requirement already satisfied: soupsieve>1.2 in /usr/lib/python3.13/site-packages (from beautifulsoup4->wikipedia->pywhatkit) (2.6)\n",
      "Requirement already satisfied: pyperclip in /home/knight/.local/lib/python3.13/site-packages (from mouseinfo->pyautogui->pywhatkit) (1.9.0)\n",
      "Note: you may need to restart the kernel to use updated packages.\n"
     ]
    },
    {
     "ename": "SystemExit",
     "evalue": "NOTE: You must install tkinter on Linux to use MouseInfo. Run the following: sudo apt-get install python3-tk python3-dev",
     "output_type": "error",
     "traceback": [
      "An exception has occurred, use %tb to see the full traceback.\n",
      "\u001b[0;31mSystemExit\u001b[0m\u001b[0;31m:\u001b[0m NOTE: You must install tkinter on Linux to use MouseInfo. Run the following: sudo apt-get install python3-tk python3-dev\n"
     ]
    },
    {
     "name": "stderr",
     "output_type": "stream",
     "text": [
      "/home/knight/.local/lib/python3.13/site-packages/IPython/core/interactiveshell.py:3585: UserWarning: To exit: use 'exit', 'quit', or Ctrl-D.\n",
      "  warn(\"To exit: use 'exit', 'quit', or Ctrl-D.\", stacklevel=1)\n"
     ]
    }
   ],
   "source": [
    "# Install pywhatkit\n",
    "%pip install pywhatkit\n",
    "\n",
    "import pywhatkit as pwk\n",
    "\n",
    "phone_number = \"+918015370905\"\n",
    "message = \"Hi, how are you? This is a test message.\"\n",
    "\n",
    "# Send the message instantly\n",
    "pwk.sendwhatmsg_instantly(phone_number, message)"
   ]
  },
  {
   "cell_type": "markdown",
   "metadata": {},
   "source": []
  }
 ],
 "metadata": {
  "kernelspec": {
   "display_name": "Python 3",
   "language": "python",
   "name": "python3"
  },
  "language_info": {
   "codemirror_mode": {
    "name": "ipython",
    "version": 3
   },
   "file_extension": ".py",
   "mimetype": "text/x-python",
   "name": "python",
   "nbconvert_exporter": "python",
   "pygments_lexer": "ipython3",
   "version": "3.13.2"
  }
 },
 "nbformat": 4,
 "nbformat_minor": 2
}
