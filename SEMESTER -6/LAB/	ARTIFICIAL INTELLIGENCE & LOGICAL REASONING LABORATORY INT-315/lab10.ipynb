def update(row, col, next_matrix):
    global modification
    directions = [(1, 0), (-1, 0), (0, 1), (0, -1)]
    for dr, dc in directions:
        r, c = row + dr, col + dc
        if 0 <= r < rows and 0 <= c < cols and matrix[r][c] == 2:
            next_matrix[row][col] = 2
            modification = True
            return  

def print_matrix(matrix):
    for row in matrix:
        print(row)
    print()

matrix = [
    [2, 1, 0, 0, 2, 1],
    [1, 0, 0, 1, 2, 0],
    [0, 1, 1, 1, 0, 0],
    [1, 0, 1, 1, 2, 0]
]

rows = len(matrix)
cols = len(matrix[0])

print_matrix(matrix)
i = 1

while True:
    modification = False 
    next_matrix = [row[:] for row in matrix] 

    for r in range(rows):
        for c in range(cols):
            if matrix[r][c] == 1:
                update(r, c, next_matrix)

    if not modification:
        break  

    matrix = next_matrix  
    print(f"Iteration {i}")
    i += 1
    print_matrix(matrix)
