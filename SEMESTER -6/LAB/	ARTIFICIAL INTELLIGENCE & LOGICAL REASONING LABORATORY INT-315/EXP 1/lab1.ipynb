{
 "cells": [
  {
   "cell_type": "code",
   "execution_count": 27,
   "metadata": {},
   "outputs": [
    {
     "name": "stdout",
     "output_type": "stream",
     "text": [
      "Resulting matrix:\n",
      "[[ 0.  5.  0. 10.]\n",
      " [ 3.  2.  6.  4.]\n",
      " [ 0. 15.  0. 20.]\n",
      " [ 9.  6. 12.  8.]]\n"
     ]
    }
   ],
   "source": [
    "#Kronocker product of two matrices\n",
    "import numpy as np\n",
    "mat1=[[1,2],\n",
    "        [3,4]]\n",
    "\n",
    "mat2=[[0,5],\n",
    "        [3,2]]  \n",
    "\n",
    "mat1_shape = np.shape(mat1)\n",
    "mat2_shape = np.shape(mat2)\n",
    "\n",
    "mat1_np = np.array(mat1)\n",
    "mat2_np = np.array(mat2)\n",
    "\n",
    "\n",
    "result = np.zeros((mat1_shape[0]*mat2_shape[0], mat1_shape[1]*mat2_shape[1]))\n",
    "\n",
    "for i in range(mat1_shape[0]):\n",
    "    for j in range(mat1_shape[1]):\n",
    "        result[i*mat2_shape[0]:(i+1)*mat2_shape[0], j*mat2_shape[1]:(j+1)*mat2_shape[1]] = mat1_np[i,j] * mat2_np\n",
    "\n",
    "print(\"Resulting matrix:\")\n",
    "print(result)"
   ]
  },
  {
   "cell_type": "code",
   "execution_count": 20,
   "metadata": {},
   "outputs": [
    {
     "name": "stdout",
     "output_type": "stream",
     "text": [
      "Resulting matrix:\n",
      "0 5 0 10 \n",
      "3 2 6 4 \n",
      "0 15 0 20 \n",
      "9 6 12 8 \n"
     ]
    }
   ],
   "source": [
    "#Kronocker product of two matrices\n",
    "\n",
    "mat1=[[1,2],\n",
    "        [3,4]]\n",
    "\n",
    "mat2=[[0,5],\n",
    "        [3,2]] \n",
    "\n",
    "rowa = len(mat1)\n",
    "cola = len(mat1[0])\n",
    "rowb = len(mat2)\n",
    "colb = len(mat2[0])\n",
    "\n",
    "result = [[0 for i in range(cola*colb)] for j in range(rowa*rowb)]\n",
    "\n",
    "for i in range(rowa):\n",
    "        for j in range(rowb):\n",
    "                for k in range(cola):\n",
    "                        for l in range(colb):\n",
    "                                result[i*rowb+j][k*colb+l] = mat1[i][k] * mat2[j][l]\n",
    "\n",
    "\n",
    "print(\"Resulting matrix:\")\n",
    "for row in result:\n",
    "        for ele in row:\n",
    "                print(ele, end = \" \")\n",
    "        print()       \n",
    "    \n",
    "        "
   ]
  },
  {
   "cell_type": "code",
   "execution_count": 4,
   "metadata": {},
   "outputs": [
    {
     "name": "stdout",
     "output_type": "stream",
     "text": [
      "Resulting matrix:\n",
      "[[ 0.  5.  2.  0. 10.  4.]\n",
      " [ 6.  7.  3. 12. 14.  6.]\n",
      " [ 0. 15.  6.  0. 20.  8.]\n",
      " [18. 21.  9. 24. 28. 12.]\n",
      " [ 0.  5.  2.  0.  0.  0.]\n",
      " [ 6.  7.  3.  0.  0.  0.]]\n"
     ]
    }
   ],
   "source": [
    "import numpy as np\n",
    "mat1=[[1,2],\n",
    "        [3,4],\n",
    "        [1,0]]\n",
    "\n",
    "mat2=[[0,5,2],\n",
    "        [6,7,3]]  \n",
    "\n",
    "mat1_shape = np.shape(mat1)\n",
    "mat2_shape = np.shape(mat2)\n",
    "\n",
    "mat1_np = np.array(mat1)\n",
    "mat2_np = np.array(mat2)\n",
    "\n",
    "\n",
    "result = np.zeros((mat1_shape[0]*mat2_shape[0], mat1_shape[1]*mat2_shape[1]))\n",
    "\n",
    "for i in range(mat1_shape[0]):\n",
    "    for j in range(mat1_shape[1]):\n",
    "        result[i*mat2_shape[0]:(i+1)*mat2_shape[0], j*mat2_shape[1]:(j+1)*mat2_shape[1]] = mat1_np[i,j] * mat2_np\n",
    "\n",
    "print(\"Resulting matrix:\")\n",
    "print(result)"
   ]
  },
  {
   "cell_type": "code",
   "execution_count": 41,
   "metadata": {},
   "outputs": [
    {
     "name": "stdout",
     "output_type": "stream",
     "text": [
      "Yes\n"
     ]
    }
   ],
   "source": [
    "#MAGIC SQUARE\n",
    "import numpy as np\n",
    "\n",
    "def is_magic_square(matrix):\n",
    "\n",
    "    matrix = np.array(matrix)\n",
    "    \n",
    "    n = int(input(\"Enter the n: \"))\n",
    "    expected_sum = (n * (n**2 + 1)) // 2\n",
    "\n",
    "    if matrix.shape != (n, n):\n",
    "        return False\n",
    "    \n",
    "    \n",
    "    # Check rows\n",
    "    if not all(np.sum(matrix, axis=1) == expected_sum):\n",
    "        return False\n",
    "    \n",
    "    # Check columns\n",
    "    if not all(np.sum(matrix, axis=0) == expected_sum):\n",
    "        return False\n",
    "    \n",
    "    # Check main diagonal\n",
    "    if not np.trace(matrix) == expected_sum:\n",
    "        return False\n",
    "    \n",
    "    # Check secondary diagonal\n",
    "    if not np.sum(np.diag(np.fliplr(matrix))) == expected_sum:\n",
    "        return False\n",
    "    \n",
    "    return True\n",
    "\n",
    "sample_matrix = [[2,7,6],[9,5,1],[4,3,8]]\n",
    "if is_magic_square(sample_matrix):\n",
    "    print(\"Yes\")\n",
    "else:\n",
    "    print(\"No\")"
   ]
  },
  {
   "cell_type": "code",
   "execution_count": 1,
   "metadata": {},
   "outputs": [
    {
     "name": "stdout",
     "output_type": "stream",
     "text": [
      "Yes\n"
     ]
    }
   ],
   "source": [
    "#MAGIC SQUARE WITHOUT BUILT-IN FUNCTION\n",
    "\n",
    "def magic_square(matrix):\n",
    "    n = len(matrix)\n",
    "    magic_sum = n*(n**2 + 1)//2\n",
    "    sum_rows = [0]*n\n",
    "    sum_cols = [0]*n\n",
    "    sum_diag = 0\n",
    "    sum_diag2 = 0\n",
    "\n",
    "    for i in range(n):\n",
    "        for j in range(n):\n",
    "            sum_rows[i] += matrix[i][j]\n",
    "            sum_cols[j] += matrix[i][j]\n",
    "            if i == j:\n",
    "                sum_diag += matrix[i][j]\n",
    "            if i + j == n - 1:\n",
    "                sum_diag2 += matrix[i][j]\n",
    "\n",
    "    if sum_diag != magic_sum or sum_diag2 != magic_sum:\n",
    "        return False\n",
    "\n",
    "    for i in range(n):\n",
    "        if sum_rows[i] != magic_sum or sum_cols[i] != magic_sum:\n",
    "            return False\n",
    "\n",
    "    return True\n",
    "    \n",
    "\n",
    "matrix = [[2,7,6],[9,5,1],[4,3,8]]\n",
    "\n",
    "if magic_square(matrix):\n",
    "    print(\"Yes\")\n",
    "else:\n",
    "    print(\"No\")"
   ]
  },
  {
   "cell_type": "code",
   "execution_count": 42,
   "metadata": {},
   "outputs": [
    {
     "name": "stdout",
     "output_type": "stream",
     "text": [
      "Matrix Multiplication:\n",
      "[[ 6  9]\n",
      " [12 23]]\n",
      "\n",
      "Matrix Addition:\n",
      "[[1 7]\n",
      " [6 6]]\n"
     ]
    }
   ],
   "source": [
    "#MATRIX ADDITION AND MULTIPLICATION\n",
    "\n",
    "import numpy as np\n",
    "mat1=[[1,2],\n",
    "        [3,4]]\n",
    "\n",
    "mat2=[[0,5],\n",
    "        [3,2]]  \n",
    "\n",
    "mat1_shape = np.shape(mat1)\n",
    "mat2_shape = np.shape(mat2)\n",
    "\n",
    "mat1_np = np.array(mat1)\n",
    "mat2_np = np.array(mat2)\n",
    "\n",
    "# Matrix Multiplication\n",
    "print(\"Matrix Multiplication:\")\n",
    "multiplication_result = np.dot(mat1_np, mat2_np)\n",
    "print(multiplication_result)\n",
    "\n",
    "# Matrix Addition\n",
    "print(\"\\nMatrix Addition:\")\n",
    "addition_result = mat1_np + mat2_np\n",
    "print(addition_result)\n",
    "\n"
   ]
  },
  {
   "cell_type": "code",
   "execution_count": 44,
   "metadata": {},
   "outputs": [
    {
     "name": "stdout",
     "output_type": "stream",
     "text": [
      "\n",
      "Original array: [2000  500  100   50   10    5    2    1]\n",
      "Left rotated array: [ 100   50   10    5    2    1 2000  500]\n",
      "Right rotated array: [   2    1 2000  500  100   50   10    5]\n"
     ]
    }
   ],
   "source": [
    "#MATRIX ROTATIONS\n",
    "\n",
    "import numpy as np\n",
    "\n",
    "array = np.array([2000, 500, 100, 50, 10, 5, 2, 1])\n",
    "\n",
    "rotations = int(input(\"Enter the number of rotations: \"))\n",
    "\n",
    "# Perform left rotation\n",
    "left_rotated = np.roll(array, -rotations)\n",
    "\n",
    "# Perform right rotation\n",
    "right_rotated = np.roll(array, rotations)\n",
    "\n",
    "print(\"\\nOriginal array:\", array)\n",
    "print(\"Left rotated array:\", left_rotated)\n",
    "print(\"Right rotated array:\", right_rotated)"
   ]
  }
 ],
 "metadata": {
  "kernelspec": {
   "display_name": "usr",
   "language": "python",
   "name": "python3"
  },
  "language_info": {
   "codemirror_mode": {
    "name": "ipython",
    "version": 3
   },
   "file_extension": ".py",
   "mimetype": "text/x-python",
   "name": "python",
   "nbconvert_exporter": "python",
   "pygments_lexer": "ipython3",
   "version": "3.13.1"
  }
 },
 "nbformat": 4,
 "nbformat_minor": 2
}
