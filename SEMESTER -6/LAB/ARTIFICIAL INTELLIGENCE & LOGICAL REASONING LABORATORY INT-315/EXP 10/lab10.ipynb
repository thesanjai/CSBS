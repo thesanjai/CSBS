{
 "cells": [
  {
   "cell_type": "code",
   "execution_count": null,
   "metadata": {},
   "outputs": [
    {
     "name": "stdout",
     "output_type": "stream",
     "text": [
      "The optimal value is : 12\n"
     ]
    }
   ],
   "source": [
    "#Min Max Program\n",
    "import math\n",
    "\n",
    "def minimax (depth, nodeIndex,maxTurn, scores, h):\n",
    "\tif (depth == h): \n",
    "\t\treturn scores[nodeIndex]\t\n",
    "\tif (maxTurn):\n",
    "\t\treturn max(minimax(depth + 1, nodeIndex * 2, False, scores, h), minimax(depth + 1, nodeIndex * 2 + 1, False, scores, h))\n",
    "\telse:\n",
    "\t\treturn min(minimax(depth + 1, nodeIndex * 2, True, scores, h), minimax(depth + 1, nodeIndex * 2 + 1, True,1 scores, h))\n",
    "\t\n",
    "scores = [3, 5, 2, 9, 12, 5, 23, 23]\n",
    "# n = int(input(\"Enter the no. of leaf nodes: \"))\n",
    "# scores= [int(input(f\"Enter the node value: \")) for _ in range(n)]\n",
    "\n",
    "h = math.log(len(scores), 2)\n",
    "\n",
    "print(\"The optimal value is : \", end = \"\")\n",
    "print(minimax(0, 0, True, scores, h))\n",
    "\n",
    "\n"
   ]
  }
 ],
 "metadata": {
  "kernelspec": {
   "display_name": "Python 3",
   "language": "python",
   "name": "python3"
  },
  "language_info": {
   "codemirror_mode": {
    "name": "ipython",
    "version": 3
   },
   "file_extension": ".py",
   "mimetype": "text/x-python",
   "name": "python",
   "nbconvert_exporter": "python",
   "pygments_lexer": "ipython3",
   "version": "3.11.1"
  }
 },
 "nbformat": 4,
 "nbformat_minor": 2
}
