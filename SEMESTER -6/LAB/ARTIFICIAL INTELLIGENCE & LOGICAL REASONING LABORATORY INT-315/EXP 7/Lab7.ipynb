{
  "nbformat": 4,
  "nbformat_minor": 0,
  "metadata": {
    "colab": {
      "provenance": []
    },
    "kernelspec": {
      "name": "python3",
      "display_name": "Python 3"
    },
    "language_info": {
      "name": "python"
    }
  },
  "cells": [
    {
      "cell_type": "code",
      "execution_count": 8,
      "metadata": {
        "colab": {
          "base_uri": "https://localhost:8080/"
        },
        "id": "nidkzu3Xh8wX",
        "outputId": "25b86f9d-4794-4e25-8c71-8bbd05a889bb"
      },
      "outputs": [
        {
          "output_type": "stream",
          "name": "stdout",
          "text": [
            "(x,y) =\n",
            "{(6,19),\n",
            "(6,18),\n",
            "(6,17),\n",
            "(6,16),\n",
            "(6,15),\n",
            "(6,14),\n",
            "(5,19),\n",
            "(5,18),\n",
            "(5,17),\n",
            "(5,16),\n",
            "(5,15),\n",
            "(4,19),\n",
            "(4,18),\n",
            "(4,17),\n",
            "(4,16)}\n"
          ]
        }
      ],
      "source": [
        "\n",
        "import constraint\n",
        "\n",
        "problem = constraint.Problem()\n",
        "problem.addVariable('x', [4, 5, 6])\n",
        "problem.addVariable('y', range(20))\n",
        "\n",
        "def our_constraint(x, y):\n",
        "  if x + y >= 20:\n",
        "    return True\n",
        "\n",
        "problem.addConstraint(our_constraint, ['x', 'y'])\n",
        "solutions = problem.getSolutions()\n",
        "length = len(solutions)\n",
        "\n",
        "print(\"(x,y) =\\n{\", end=\"\")\n",
        "for index, solution in enumerate(solutions):\n",
        "  print(\"({},{})\".format(solution['x'], solution['y']), end=\"\")\n",
        "  if index == length - 1:\n",
        "    break\n",
        "  print(\",\")\n",
        "print(\"}\")\n"
      ]
    }
  ]
}