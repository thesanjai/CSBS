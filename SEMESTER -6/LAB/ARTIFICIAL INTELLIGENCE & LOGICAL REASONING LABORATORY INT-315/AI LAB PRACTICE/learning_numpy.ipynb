{
 "cells": [
  {
   "cell_type": "code",
   "execution_count": 24,
   "metadata": {},
   "outputs": [
    {
     "name": "stdout",
     "output_type": "stream",
     "text": [
      "[0 1 2 3 4 5 6 7 8 9]\n",
      "<class 'numpy.ndarray'>\n",
      "[2 3 4 5 6 7]\n",
      "[1 3 5 7 9]\n",
      "[1.  1.5 2.  2.5 3.  3.5 4.  4.5 5.  5.5 6.  6.5 7.  7.5 8.  8.5 9.  9.5]\n",
      "\n",
      "\n",
      "\n",
      "[1 2 3 4 5]\n",
      "<class 'numpy.ndarray'>\n",
      "<class 'numpy.int64'>\n",
      "[1 2 3 4 5]\n",
      "<class 'numpy.ndarray'>\n",
      "<class 'numpy.int8'>\n",
      "int8\n",
      "1\n",
      "5\n",
      "(5,)\n",
      "\n"
     ]
    }
   ],
   "source": [
    "import numpy as np\n",
    "\n",
    "my_arr = np.arange(10)\n",
    "print(my_arr)\n",
    "print(type(my_arr))\n",
    "\n",
    "my_arr = np.arange(2,8)\n",
    "print(my_arr)\n",
    "\n",
    "my_arr = np.arange(1,10,2)\n",
    "print(my_arr)\n",
    "\n",
    "my_arr = np.arange(1,10,0.5)\n",
    "print(my_arr)\n",
    "\n",
    "\n",
    "print()\n",
    "print()\n",
    "print()\n",
    "\n",
    "\n",
    "from_list = np.array([1,2,3,4,5])\n",
    "print(from_list)\n",
    "print(type(from_list))\n",
    "print(type(from_list[0])) # takes lot of space\n",
    "\n",
    "from_list = np.array([1,2,3,4,5],dtype=np.int8)\n",
    "print(from_list)\n",
    "print(type(from_list))\n",
    "print(type(from_list[0])) # takes less space\n",
    "print(from_list.dtype)\n",
    "print(from_list.itemsize)\n",
    "print(from_list.size)\n",
    "print(from_list.shape)\n",
    "\n",
    "\n",
    "\n",
    "print()\n",
    "\n"
   ]
  },
  {
   "cell_type": "code",
   "execution_count": 29,
   "metadata": {},
   "outputs": [
    {
     "name": "stdout",
     "output_type": "stream",
     "text": [
      "[[1 2 3]\n",
      " [4 5 6]\n",
      " [7 8 9]]\n",
      "(3, 3)\n",
      "\n",
      "[[ 1  2  3  4  5]\n",
      " [ 6  7  8  9 10]\n",
      " [11 12 13 14 15]]\n",
      "(3, 5)\n",
      "[[ 1  2  3]\n",
      " [ 4  5  6]\n",
      " [ 7  8  9]\n",
      " [10 11 12]\n",
      " [13 14 15]]\n",
      "[ 1  2  3  4  5  6  7  8  9 10 11 12 13 14 15]\n"
     ]
    }
   ],
   "source": [
    "#2D arrays\n",
    "\n",
    "from_list = np.array([[1,2,3],[4,5,6],[7,8,9]],dtype=np.int8)\n",
    "print(from_list)\n",
    "print(from_list.shape)\n",
    "\n",
    "print()\n",
    "array_2d = np.array((np.arange(1,6),np.arange(6,11),np.arange(11,16)))\n",
    "print(array_2d)\n",
    "print(array_2d.shape)\n",
    " \n",
    "array_2d = array_2d.reshape(5,3)\n",
    "print(array_2d)\n",
    "\n",
    "array_2d = array_2d.reshape(15)\n",
    "print(array_2d)\n",
    "\n",
    "\n"
   ]
  },
  {
   "cell_type": "code",
   "execution_count": 52,
   "metadata": {},
   "outputs": [
    {
     "name": "stdout",
     "output_type": "stream",
     "text": [
      "[[0. 0. 0.]\n",
      " [0. 0. 0.]\n",
      " [0. 0. 0.]]\n",
      "[[1. 1. 1.]\n",
      " [1. 1. 1.]\n",
      " [1. 1. 1.]]\n",
      "[[1. 0. 0.]\n",
      " [0. 1. 0.]\n",
      " [0. 0. 1.]]\n",
      "[[0. 1. 0.]\n",
      " [0. 0. 1.]\n",
      " [0. 0. 0.]]\n",
      "[[0. 1. 0.]\n",
      " [0. 0. 1.]\n",
      " [0. 0. 0.]]\n",
      "[[1. 0. 0. 0.]\n",
      " [0. 1. 0. 0.]\n",
      " [0. 0. 1. 0.]\n",
      " [0. 0. 0. 1.]]\n",
      "[[1. 2. 2. 2.]\n",
      " [2. 1. 2. 2.]\n",
      " [2. 2. 1. 2.]\n",
      " [2. 2. 2. 1.]]\n",
      "[[4. 2. 2. 2.]\n",
      " [2. 4. 2. 2.]\n",
      " [2. 2. 4. 2.]\n",
      " [2. 2. 2. 4.]]\n"
     ]
    }
   ],
   "source": [
    "#empty array\n",
    "zero_array = np.zeros((3,3))\n",
    "print(zero_array)\n",
    "\n",
    "one_array = np.ones((3,3))\n",
    "print(one_array)\n",
    "\n",
    "eye_array = np.eye(3)\n",
    "print(eye_array)\n",
    "\n",
    "eye_array = np.eye(3,k=1) #k is the diagonal offset, k=-1 below diagonal , k = 1 above diagonal\n",
    "print(eye_array)\n",
    "\n",
    "empty_array = np.empty((3,3))#don't use it , it returns random values\n",
    "print(empty_array)\n",
    "\n",
    "\n",
    "test_array = np.eye(4)\n",
    "print(test_array)\n",
    "test_array[test_array == 0] = 2\n",
    "print(test_array) \n",
    "test_array[test_array < 2 ] =4\n",
    "print(test_array)\n"
   ]
  },
  {
   "cell_type": "code",
   "execution_count": 62,
   "metadata": {},
   "outputs": [
    {
     "name": "stdout",
     "output_type": "stream",
     "text": [
      "[[2 2 2]\n",
      " [4 5 6]\n",
      " [7 8 9]]\n",
      "[[2 2 2]\n",
      " [2 2 2]\n",
      " [7 8 9]]\n",
      "[[2 2 2]\n",
      " [2 2 2]\n",
      " [2 2 2]]\n",
      "[[2 2 2]\n",
      " [2 2 2]\n",
      " [7 8 9]]\n"
     ]
    }
   ],
   "source": [
    "array = np.array(np.arange(1,10)).reshape(3,3)\n",
    "array[0] = 2\n",
    "print(array)\n",
    "array[1] = 2\n",
    "print(array)\n",
    "array[2] = 2\n",
    "print(array)\n",
    "array = np.array(np.arange(1,10)).reshape(3,3)\n",
    "array[:2] = 2\n",
    "print(array)\n"
   ]
  },
  {
   "cell_type": "code",
   "execution_count": 67,
   "metadata": {},
   "outputs": [
    {
     "name": "stdout",
     "output_type": "stream",
     "text": [
      "[[1 2 3]\n",
      " [4 5 6]\n",
      " [7 8 9]]\n",
      "[[4 2 3]\n",
      " [4 5 6]\n",
      " [4 8 9]]\n",
      "[[2 3 4]\n",
      " [4 5 6]\n",
      " [4 8 9]]\n",
      "[[2 3 4]\n",
      " [4 5 6]\n",
      " [4 8 9]]\n"
     ]
    }
   ],
   "source": [
    "array = np.array(np.arange(1,10)).reshape(3,3)\n",
    "print(array)\n",
    "array[:,0] = 4\n",
    "print(array)\n",
    "\n",
    "\n",
    "sorted_Array = np.sort(array) # sorting by row\n",
    "print(sorted_Array)\n",
    "\n",
    "#sorting by column\n",
    "sorted_Array = np.sort(sorted_Array,axis=0,kind=\"mergesort\") #axis = 0 column , axis = 1 row\n",
    "print(sorted_Array)"
   ]
  },
  {
   "cell_type": "code",
   "execution_count": 70,
   "metadata": {},
   "outputs": [
    {
     "name": "stdout",
     "output_type": "stream",
     "text": [
      "[[1 2 3]\n",
      " [4 5 6]\n",
      " [7 8 9]]\n",
      "[[1 2 3]\n",
      " [4 5 6]\n",
      " [7 8 9]]\n",
      "\n",
      "[[4 4 4]\n",
      " [4 4 4]\n",
      " [4 4 4]]\n",
      "[[1 2 3]\n",
      " [4 5 6]\n",
      " [7 8 9]]\n",
      "[[4 4 4]\n",
      " [4 4 4]\n",
      " [4 4 4]]\n"
     ]
    }
   ],
   "source": [
    "#copy arrays\n",
    "array = np.array(np.arange(1,10)).reshape(3,3)\n",
    "\n",
    "my_view = array.view() # view directly modifies the original array, only the values is changes\n",
    "                        #if the shape is changes it will not change the original array \n",
    "print(my_view)\n",
    "my_copy = array.copy()\n",
    "print(my_copy)\n",
    "\n",
    "my_view[:] = 4\n",
    "print()\n",
    "print(my_view)\n",
    "print(my_copy)\n",
    "print(array)"
   ]
  }
 ],
 "metadata": {
  "kernelspec": {
   "display_name": "usr",
   "language": "python",
   "name": "python3"
  },
  "language_info": {
   "codemirror_mode": {
    "name": "ipython",
    "version": 3
   },
   "file_extension": ".py",
   "mimetype": "text/x-python",
   "name": "python",
   "nbconvert_exporter": "python",
   "pygments_lexer": "ipython3",
   "version": "3.13.1"
  }
 },
 "nbformat": 4,
 "nbformat_minor": 2
}
